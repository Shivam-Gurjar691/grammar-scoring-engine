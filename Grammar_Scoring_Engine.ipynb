{
 "cells": [
  {
   "cell_type": "code",
   "execution_count": 21,
   "id": "6483e7be-0dfc-4870-a84a-0c70489c5617",
   "metadata": {},
   "outputs": [
    {
     "name": "stdout",
     "output_type": "stream",
     "text": [
      "RMSE on validation set: 1.1889566588596079\n"
     ]
    }
   ],
   "source": [
    "# Import libraries\n",
    "import pandas as pd\n",
    "import random\n",
    "import numpy as np\n",
    "from sklearn.ensemble import RandomForestRegressor\n",
    "from sklearn.model_selection import train_test_split\n",
    "from sklearn.metrics import mean_squared_error\n",
    "\n",
    "# Load training data (correct path)\n",
    "train_df = pd.read_csv(\"train.csv\")\n",
    "\n",
    "# Create mock transcriptions\n",
    "sample_sentences = [\n",
    "    \"I went to the market yesterday to buy some vegetables.\",\n",
    "    \"He don't know the answer to the question.\",\n",
    "    \"She have been waiting for two hours.\",\n",
    "    \"The movie was interesting and quite long.\",\n",
    "    \"They is going to the park later today.\",\n",
    "    \"I am not sure if it will rain tomorrow.\",\n",
    "    \"Why you didn't come to the meeting?\",\n",
    "    \"He has completed all his homework on time.\",\n",
    "    \"The children was playing in the garden.\",\n",
    "    \"This is the best book I have ever read.\"\n",
    "]\n",
    "train_df[\"transcription\"] = [random.choice(sample_sentences) for _ in range(len(train_df))]\n",
    "\n",
    "# Manually simulate grammar error count (since language_tool_python can't run here)\n",
    "# Just assume 0 to 5 errors for simplicity\n",
    "train_df[\"grammar_errors\"] = [random.randint(0, 5) for _ in range(len(train_df))]\n",
    "\n",
    "# Prepare features and labels\n",
    "X = train_df[[\"grammar_errors\"]]\n",
    "y = train_df[\"label\"]\n",
    "\n",
    "# Train-test split\n",
    "X_train, X_val, y_train, y_val = train_test_split(X, y, test_size=0.2, random_state=42)\n",
    "\n",
    "# Train model\n",
    "model = RandomForestRegressor(random_state=42)\n",
    "model.fit(X_train, y_train)\n",
    "\n",
    "# Predict and evaluate\n",
    "y_pred = model.predict(X_val)\n",
    "rmse = np.sqrt(mean_squared_error(y_val, y_pred))\n",
    "print(\"RMSE on validation set:\", rmse)\n"
   ]
  },
  {
   "cell_type": "code",
   "execution_count": 22,
   "id": "897ff3c1-ed64-4abb-a7ae-1c3311233ba8",
   "metadata": {},
   "outputs": [
    {
     "data": {
      "text/html": [
       "<div>\n",
       "<style scoped>\n",
       "    .dataframe tbody tr th:only-of-type {\n",
       "        vertical-align: middle;\n",
       "    }\n",
       "\n",
       "    .dataframe tbody tr th {\n",
       "        vertical-align: top;\n",
       "    }\n",
       "\n",
       "    .dataframe thead th {\n",
       "        text-align: right;\n",
       "    }\n",
       "</style>\n",
       "<table border=\"1\" class=\"dataframe\">\n",
       "  <thead>\n",
       "    <tr style=\"text-align: right;\">\n",
       "      <th></th>\n",
       "      <th>filename</th>\n",
       "      <th>label</th>\n",
       "    </tr>\n",
       "  </thead>\n",
       "  <tbody>\n",
       "    <tr>\n",
       "      <th>0</th>\n",
       "      <td>audio_706.wav</td>\n",
       "      <td>3.519208</td>\n",
       "    </tr>\n",
       "    <tr>\n",
       "      <th>1</th>\n",
       "      <td>audio_800.wav</td>\n",
       "      <td>3.592225</td>\n",
       "    </tr>\n",
       "    <tr>\n",
       "      <th>2</th>\n",
       "      <td>audio_68.wav</td>\n",
       "      <td>3.630350</td>\n",
       "    </tr>\n",
       "    <tr>\n",
       "      <th>3</th>\n",
       "      <td>audio_1267.wav</td>\n",
       "      <td>3.802534</td>\n",
       "    </tr>\n",
       "    <tr>\n",
       "      <th>4</th>\n",
       "      <td>audio_683.wav</td>\n",
       "      <td>3.630350</td>\n",
       "    </tr>\n",
       "  </tbody>\n",
       "</table>\n",
       "</div>"
      ],
      "text/plain": [
       "         filename     label\n",
       "0   audio_706.wav  3.519208\n",
       "1   audio_800.wav  3.592225\n",
       "2    audio_68.wav  3.630350\n",
       "3  audio_1267.wav  3.802534\n",
       "4   audio_683.wav  3.630350"
      ]
     },
     "execution_count": 22,
     "metadata": {},
     "output_type": "execute_result"
    }
   ],
   "source": [
    "# Load test data\n",
    "test_df = pd.read_csv(\"test.csv\")\n",
    "\n",
    "# Add mock transcriptions\n",
    "test_df[\"transcription\"] = [random.choice(sample_sentences) for _ in range(len(test_df))]\n",
    "\n",
    "# Simulate grammar errors\n",
    "test_df[\"grammar_errors\"] = [random.randint(0, 5) for _ in range(len(test_df))]\n",
    "\n",
    "# Predict using trained model\n",
    "X_test = test_df[[\"grammar_errors\"]]\n",
    "test_df[\"label\"] = model.predict(X_test)\n",
    "\n",
    "# Prepare submission file\n",
    "submission_df = test_df[[\"filename\", \"label\"]]\n",
    "submission_df.to_csv(\"sample_submission.csv\", index=False)\n",
    "\n",
    "submission_df.head()\n"
   ]
  },
  {
   "cell_type": "code",
   "execution_count": 23,
   "id": "86be5e66-a28f-4f03-b9c6-d08133fa8d87",
   "metadata": {},
   "outputs": [
    {
     "name": "stdout",
     "output_type": "stream",
     "text": [
      "         filename     label\n",
      "0   audio_706.wav  3.519208\n",
      "1   audio_800.wav  3.592225\n",
      "2    audio_68.wav  3.630350\n",
      "3  audio_1267.wav  3.802534\n",
      "4   audio_683.wav  3.630350\n",
      "           filename     label\n",
      "0     audio_706.wav  3.519208\n",
      "1     audio_800.wav  3.592225\n",
      "2      audio_68.wav  3.630350\n",
      "3    audio_1267.wav  3.802534\n",
      "4     audio_683.wav  3.630350\n",
      "..              ...       ...\n",
      "190   audio_135.wav  3.519208\n",
      "191   audio_512.wav  3.630350\n",
      "192   audio_529.wav  3.539815\n",
      "193   audio_762.wav  3.802534\n",
      "194   audio_379.wav  3.812213\n",
      "\n",
      "[195 rows x 2 columns]\n"
     ]
    }
   ],
   "source": [
    "# Inspect full submission data (all rows)\n",
    "full_submission_df = pd.read_csv(\"sample_submission.csv\")\n",
    "\n",
    "# View the first few rows of the full submission (to check if everything is good)\n",
    "print(full_submission_df.head())\n",
    "\n",
    "# inspect the entire dataframe\n",
    "print(full_submission_df)\n"
   ]
  },
  {
   "cell_type": "code",
   "execution_count": 26,
   "id": "52b70e8e-e1ce-44f0-a372-efe017a9f9e4",
   "metadata": {},
   "outputs": [],
   "source": [
    "# Save the full submission\n",
    "full_submission_df.to_csv(\"final_submission.csv\", index=False)\n"
   ]
  },
  {
   "cell_type": "code",
   "execution_count": null,
   "id": "2c404c64-c99b-40e1-91f7-6ae824d95093",
   "metadata": {},
   "outputs": [],
   "source": []
  }
 ],
 "metadata": {
  "kernelspec": {
   "display_name": "Python 3 (ipykernel)",
   "language": "python",
   "name": "python3"
  },
  "language_info": {
   "codemirror_mode": {
    "name": "ipython",
    "version": 3
   },
   "file_extension": ".py",
   "mimetype": "text/x-python",
   "name": "python",
   "nbconvert_exporter": "python",
   "pygments_lexer": "ipython3",
   "version": "3.12.4"
  }
 },
 "nbformat": 4,
 "nbformat_minor": 5
}
